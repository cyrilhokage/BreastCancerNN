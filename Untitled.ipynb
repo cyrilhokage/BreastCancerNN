{
 "cells": [
  {
   "cell_type": "markdown",
   "metadata": {},
   "source": [
    "Importing required libraries"
   ]
  },
  {
   "cell_type": "code",
   "execution_count": 1,
   "metadata": {},
   "outputs": [],
   "source": [
    "# Neural network implementation\n",
    "from sklearn.neural_network import MLPClassifier\n",
    "# Function for loading the breast cancer data set\n",
    "from sklearn.datasets import load_breast_cancer\n",
    "# Function for splitting data into training & testing sets\n",
    "from sklearn.model_selection import train_test_split "
   ]
  },
  {
   "cell_type": "markdown",
   "metadata": {},
   "source": [
    "Data preparation"
   ]
  },
  {
   "cell_type": "code",
   "execution_count": 2,
   "metadata": {},
   "outputs": [],
   "source": [
    "data = load_breast_cancer() # Load and save the breast cancer data set\n",
    "attributes = data.data # The properties of breast mass cell nuceli \n",
    "labels = data.target # Whether the mass is cancerous"
   ]
  },
  {
   "cell_type": "markdown",
   "metadata": {},
   "source": [
    "Data split "
   ]
  },
  {
   "cell_type": "code",
   "execution_count": 9,
   "metadata": {},
   "outputs": [],
   "source": [
    "attributes_train, attributes_test, labels_train, labels_test = train_test_split(attributes, labels, test_size=0.33)"
   ]
  },
  {
   "cell_type": "markdown",
   "metadata": {},
   "source": [
    "Neural Network model"
   ]
  },
  {
   "cell_type": "code",
   "execution_count": 12,
   "metadata": {},
   "outputs": [
    {
     "name": "stdout",
     "output_type": "stream",
     "text": [
      "95.74468085106383% accuracy\n"
     ]
    }
   ],
   "source": [
    "neuralnet = MLPClassifier(solver='lbfgs', activation='logistic', alpha=10.0)  # Instantiate a neural network object\n",
    "neuralnet.fit(attributes_train, labels_train) # Train the neural network\n",
    "accuracy = neuralnet.score(attributes_test, labels_test) # Test the neural network\n",
    "print(str(accuracy * 100) + \"% accuracy\") # Print the accuracy"
   ]
  },
  {
   "cell_type": "code",
   "execution_count": null,
   "metadata": {},
   "outputs": [],
   "source": []
  }
 ],
 "metadata": {
  "kernelspec": {
   "display_name": "Python 3",
   "language": "python",
   "name": "python3"
  },
  "language_info": {
   "codemirror_mode": {
    "name": "ipython",
    "version": 3
   },
   "file_extension": ".py",
   "mimetype": "text/x-python",
   "name": "python",
   "nbconvert_exporter": "python",
   "pygments_lexer": "ipython3",
   "version": "3.6.4"
  }
 },
 "nbformat": 4,
 "nbformat_minor": 2
}
